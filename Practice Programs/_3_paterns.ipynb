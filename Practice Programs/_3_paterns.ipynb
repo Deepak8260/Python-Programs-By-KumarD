{
 "cells": [
  {
   "cell_type": "code",
   "execution_count": 7,
   "metadata": {},
   "outputs": [
    {
     "name": "stdout",
     "output_type": "stream",
     "text": [
      "*  *  *  *  *  \n",
      "*  *  *  *  *  \n",
      "*  *  *  *  *  \n"
     ]
    }
   ],
   "source": [
    "#complete rectangle using star\n",
    "r=int(input(\"Enter the number of rows in the rectangle\"))\n",
    "c=int(input(\"Enter the number of columns in the rectangle\"))\n",
    "\n",
    "for i in range(r):\n",
    "\n",
    "    for j in range(c):\n",
    "        print(\"*\",end=\"  \")\n",
    "    print()"
   ]
  },
  {
   "cell_type": "code",
   "execution_count": 4,
   "metadata": {},
   "outputs": [
    {
     "name": "stdout",
     "output_type": "stream",
     "text": [
      "*  *  *  *  *  \n",
      "*  *  *  *  *  \n",
      "*  *  *  *  *  \n",
      "*  *  *  *  *  \n",
      "*  *  *  *  *  \n"
     ]
    }
   ],
   "source": [
    "#square using star\n",
    "r=int(input(\"Entet the number of rows in the square\"))\n",
    "c=int(input(\"Entet the number of columns in the square\"))\n",
    "\n",
    "if r==c:\n",
    "    i=0\n",
    "    while i<r:\n",
    "        j=0\n",
    "        while j<c:\n",
    "            print(\"*\",end=\"  \")\n",
    "            j+=1\n",
    "        i+=1\n",
    "        print()\n",
    "            \n",
    "        \n",
    "else:\n",
    "    print(\"The number of rows and column must be same\")\n",
    "     \n",
    "    \n"
   ]
  },
  {
   "cell_type": "code",
   "execution_count": null,
   "metadata": {},
   "outputs": [],
   "source": []
  },
  {
   "cell_type": "code",
   "execution_count": null,
   "metadata": {},
   "outputs": [],
   "source": []
  },
  {
   "cell_type": "code",
   "execution_count": null,
   "metadata": {},
   "outputs": [],
   "source": []
  }
 ],
 "metadata": {
  "kernelspec": {
   "display_name": "Python 3",
   "language": "python",
   "name": "python3"
  },
  "language_info": {
   "codemirror_mode": {
    "name": "ipython",
    "version": 3
   },
   "file_extension": ".py",
   "mimetype": "text/x-python",
   "name": "python",
   "nbconvert_exporter": "python",
   "pygments_lexer": "ipython3",
   "version": "3.12.2"
  }
 },
 "nbformat": 4,
 "nbformat_minor": 2
}
