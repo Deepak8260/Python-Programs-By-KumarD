{
 "cells": [
  {
   "cell_type": "code",
   "execution_count": 7,
   "metadata": {},
   "outputs": [
    {
     "name": "stdout",
     "output_type": "stream",
     "text": [
      "*  *  *  *  *  \n",
      "*  *  *  *  *  \n",
      "*  *  *  *  *  \n"
     ]
    }
   ],
   "source": [
    "#1.complete rectangle using star\n",
    "r=int(input(\"Enter the number of rows in the rectangle\"))\n",
    "c=int(input(\"Enter the number of columns in the rectangle\"))\n",
    "\n",
    "for i in range(r):\n",
    "\n",
    "    for j in range(c):\n",
    "        print(\"*\",end=\"  \")\n",
    "    print()"
   ]
  },
  {
   "cell_type": "code",
   "execution_count": 4,
   "metadata": {},
   "outputs": [
    {
     "name": "stdout",
     "output_type": "stream",
     "text": [
      "*  *  *  *  *  \n",
      "*  *  *  *  *  \n",
      "*  *  *  *  *  \n",
      "*  *  *  *  *  \n",
      "*  *  *  *  *  \n"
     ]
    }
   ],
   "source": [
    "#2.square using star\n",
    "r=int(input(\"Entet the number of rows in the square\"))\n",
    "c=int(input(\"Entet the number of columns in the square\"))\n",
    "\n",
    "if r==c:\n",
    "    i=0\n",
    "    while i<r:\n",
    "        j=0\n",
    "        while j<c:\n",
    "            print(\"*\",end=\"  \")\n",
    "            j+=1\n",
    "        i+=1\n",
    "        print()\n",
    "            \n",
    "        \n",
    "else:\n",
    "    print(\"The number of rows and column must be same\")\n",
    "     \n",
    "    \n"
   ]
  },
  {
   "cell_type": "code",
   "execution_count": 7,
   "metadata": {},
   "outputs": [
    {
     "name": "stdout",
     "output_type": "stream",
     "text": [
      "*  *  *  *  *  \n",
      "*           *  \n",
      "*           *  \n",
      "*           *  \n",
      "*  *  *  *  *  \n"
     ]
    }
   ],
   "source": [
    "#3.hollow rectangle/square using for loop\n",
    "r=int(input(\"Enter the no of rows\"))\n",
    "c=int(input(\"Enter the no of columns\"))\n",
    "\n",
    "for i in range(r):\n",
    "    for j in range(c):\n",
    "        if i==0 or i==r-1 or j==0 or j==c-1:\n",
    "            print(\"*\",end=\"  \")\n",
    "        else:\n",
    "            print(\" \",end=\"  \")\n",
    "    print()"
   ]
  },
  {
   "cell_type": "code",
   "execution_count": 9,
   "metadata": {},
   "outputs": [
    {
     "name": "stdout",
     "output_type": "stream",
     "text": [
      "*  *  *  *  *  *  \n",
      "*              *  \n",
      "*              *  \n",
      "*              *  \n",
      "*              *  \n",
      "*  *  *  *  *  *  \n"
     ]
    }
   ],
   "source": [
    "#4.hollow rectangle/square using while loop\n",
    "r=int(input(\"Enter the no or rows\"))\n",
    "c=int(input(\"Enter the no or columns\"))\n",
    "i=0\n",
    "while i<r:\n",
    "    j=0\n",
    "    while j<c:\n",
    "        if i==0 or i==r-1 or j==0 or j==c-1:\n",
    "            print(\"*\",end=\"  \")\n",
    "            j+=1\n",
    "        else:\n",
    "            print(\" \",end=\"  \")\n",
    "            j+=1\n",
    "    print()\n",
    "    i+=1\n",
    "            "
   ]
  },
  {
   "cell_type": "code",
   "execution_count": 14,
   "metadata": {},
   "outputs": [
    {
     "name": "stdout",
     "output_type": "stream",
     "text": [
      "* \n",
      "* * \n",
      "* * * \n",
      "* * * * \n",
      "* * * * * \n"
     ]
    }
   ],
   "source": [
    "# 5. Star Half pyramid \n",
    "r=int(input(\"Enter the no of rows\"))\n",
    "c=int(input(\"Enter the no of columns\"))\n",
    "\n",
    "for i in range(r):\n",
    "    for j in range(i+1):\n",
    "        print(\"*\",end=\" \")\n",
    "    print()"
   ]
  },
  {
   "cell_type": "code",
   "execution_count": 1,
   "metadata": {},
   "outputs": [
    {
     "name": "stdout",
     "output_type": "stream",
     "text": [
      "1 \n",
      "1 2 \n",
      "1 2 3 \n",
      "1 2 3 4 \n",
      "1 2 3 4 5 \n"
     ]
    }
   ],
   "source": [
    "# 6. Numeric half pyramid\n",
    "r=int(input(\"Enter the no of rows\"))\n",
    "c=int(input(\"Enter the no of columns\"))\n",
    "\n",
    "i=0\n",
    "while i<r:\n",
    "    j=0\n",
    "    while j<=i:\n",
    "        print(j+1,end=\" \")\n",
    "        j+=1\n",
    "    print()\n",
    "    i+=1    "
   ]
  },
  {
   "cell_type": "code",
   "execution_count": 7,
   "metadata": {},
   "outputs": [
    {
     "name": "stdout",
     "output_type": "stream",
     "text": [
      "* \n",
      "* * \n",
      "*   * \n",
      "*     * \n",
      "*       * \n",
      "*         * \n",
      "* * * * * * * \n"
     ]
    }
   ],
   "source": [
    "# 7. Star hollow Half pyramid \n",
    "r=int(input(\"Enter the no of rows\"))\n",
    "c=int(input(\"Enter the no of columns\"))\n",
    "\n",
    "for i in range(r):\n",
    "    for j in range(i+1):\n",
    "        if i==0 or i==r-1 or j==0 or j==i:\n",
    "            print(\"*\",end=\" \")\n",
    "        else:\n",
    "            print(\" \",end=\" \")\n",
    "    print()"
   ]
  },
  {
   "cell_type": "code",
   "execution_count": 9,
   "metadata": {},
   "outputs": [
    {
     "name": "stdout",
     "output_type": "stream",
     "text": [
      "1 \n",
      "1 2 \n",
      "1   3 \n",
      "1     4 \n",
      "1       5 \n",
      "1 2 3 4 5 6 \n"
     ]
    }
   ],
   "source": [
    "# 8. Numeric hollow half pyramid\n",
    "r=int(input(\"Enter the no of rows\"))\n",
    "c=int(input(\"Enter the no of columns\"))\n",
    "\n",
    "for i in range(r):\n",
    "    for j in range(i+1):\n",
    "        if i==0 or i==r-1 or j==0 or j==i:\n",
    "            print(j+1,end=\" \")\n",
    "        else:\n",
    "            print(\" \",end=\" \")\n",
    "    print()\n",
    "        \n",
    "        "
   ]
  },
  {
   "cell_type": "code",
   "execution_count": 5,
   "metadata": {},
   "outputs": [
    {
     "name": "stdout",
     "output_type": "stream",
     "text": [
      "* * * * * * * \n",
      "* * * * * * \n",
      "* * * * * \n",
      "* * * * \n",
      "* * * \n",
      "* * \n",
      "* \n"
     ]
    }
   ],
   "source": [
    "r=int(input(\"Enter the no of rows\"))\n",
    "while r>0:\n",
    "    j=0\n",
    "    while j<r:\n",
    "        print(\"*\",end=\" \")\n",
    "        j+=1\n",
    "    print()\n",
    "    r-=1"
   ]
  },
  {
   "cell_type": "code",
   "execution_count": 7,
   "metadata": {},
   "outputs": [
    {
     "name": "stdout",
     "output_type": "stream",
     "text": [
      "1 2 3 4 5 6 7 \n",
      "1 2 3 4 5 6 \n",
      "1 2 3 4 5 \n",
      "1 2 3 4 \n",
      "1 2 3 \n",
      "1 2 \n",
      "1 \n"
     ]
    }
   ],
   "source": [
    "r=int(input(\"Enter the no of rows\"))\n",
    "while r>0:\n",
    "    j=0\n",
    "    while j<r:\n",
    "        print(j+1,end=\" \")\n",
    "        j+=1\n",
    "    print()\n",
    "    r-=1"
   ]
  },
  {
   "cell_type": "code",
   "execution_count": null,
   "metadata": {},
   "outputs": [],
   "source": []
  }
 ],
 "metadata": {
  "kernelspec": {
   "display_name": "Python 3",
   "language": "python",
   "name": "python3"
  },
  "language_info": {
   "codemirror_mode": {
    "name": "ipython",
    "version": 3
   },
   "file_extension": ".py",
   "mimetype": "text/x-python",
   "name": "python",
   "nbconvert_exporter": "python",
   "pygments_lexer": "ipython3",
   "version": "3.12.2"
  }
 },
 "nbformat": 4,
 "nbformat_minor": 2
}
