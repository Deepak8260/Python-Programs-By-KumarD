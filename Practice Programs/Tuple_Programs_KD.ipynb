{
  "nbformat": 4,
  "nbformat_minor": 0,
  "metadata": {
    "colab": {
      "provenance": []
    },
    "kernelspec": {
      "name": "python3",
      "display_name": "Python 3"
    },
    "language_info": {
      "name": "python"
    }
  },
  "cells": [
    {
      "cell_type": "code",
      "execution_count": null,
      "metadata": {
        "colab": {
          "base_uri": "https://localhost:8080/"
        },
        "id": "Vo0ZcUOyVun2",
        "outputId": "d115eda7-61ed-44f9-dbbf-2a177e244e92"
      },
      "outputs": [
        {
          "output_type": "stream",
          "name": "stdout",
          "text": [
            "<class 'tuple'>\n",
            "<class 'int'>\n",
            "<class 'tuple'>\n",
            "<class 'tuple'>\n"
          ]
        }
      ],
      "source": [
        "#Different ways to define a tuple\n",
        "\n",
        "l=(10,20,30,40)\n",
        "print(type(l))\n",
        "\n",
        "s=(10)\n",
        "print(type(s))\n",
        "\n",
        "t=(10,)\n",
        "print(type(t))\n",
        "\n",
        "u=10,20,30,40,50\n",
        "print(type(u))"
      ]
    },
    {
      "cell_type": "code",
      "source": [
        "#Functions and methods in tuple\n",
        "l=(40,20,60,45,34,56,36,86,54,24,67,43,65,4)\n",
        "\n",
        "#1. sorted()\n",
        "s=sorted(l) #crteated a new list object\n",
        "print(l)\n",
        "print(s)\n",
        "print(type(s))\n",
        "\n"
      ],
      "metadata": {
        "colab": {
          "base_uri": "https://localhost:8080/"
        },
        "id": "mrpb62ztV68Z",
        "outputId": "7d601d00-3b88-4d0b-8f6f-2cc24a8e4163"
      },
      "execution_count": null,
      "outputs": [
        {
          "output_type": "stream",
          "name": "stdout",
          "text": [
            "(40, 20, 60, 45, 34, 56, 36, 86, 54, 24, 67, 43, 65, 4)\n",
            "[4, 20, 24, 34, 36, 40, 43, 45, 54, 56, 60, 65, 67, 86]\n",
            "<class 'list'>\n"
          ]
        }
      ]
    },
    {
      "cell_type": "code",
      "source": [
        "#2. length of tuple\n",
        "l=(40,20,60,45,34,56,36,86,54,24,67,43,65,4)\n",
        "print(\"The length of the string is\",len(l))\n",
        "\n",
        "#3. count\n",
        "l=(40,20,60,45,24,34,56,36,86,54,24,67,43,65,4,24)\n",
        "print(\"The the total number of times 24 occurs in the tuple is \",l.count(24))\n",
        "\n",
        "#4. index\n",
        "l=(40,20,60,45,34,56,36,86,54,24,67,43,65,4)\n",
        "print(\"The index of 24 in the list is\",l.index(24))\n",
        "\n",
        "#5. min and max of tuple\n",
        "l=(40,20,60,45,34,56,36,86,54,24,67,43,65,4)\n",
        "print(\"The minimum element in the tuple is\",min(l))\n",
        "print(\"The maximum element in the tuple is\",max(l))\n",
        "\n"
      ],
      "metadata": {
        "id": "shFoMAfIc13W",
        "colab": {
          "base_uri": "https://localhost:8080/"
        },
        "outputId": "5a189e9e-e500-4b67-bf83-4eefefcaf708"
      },
      "execution_count": null,
      "outputs": [
        {
          "output_type": "stream",
          "name": "stdout",
          "text": [
            "The length of the string is 14\n",
            "The the total number of times 24 occurs in the tuple is  3\n",
            "The index of 24 in the list is 9\n",
            "The minimum element in the tuple is 4\n",
            "The maximum element in the tuple is 86\n"
          ]
        }
      ]
    },
    {
      "cell_type": "code",
      "source": [
        "#Tuple Packing and unpacking\n",
        "a=10\n",
        "b=20\n",
        "c=30\n",
        "p=a,b,c #packing\n",
        "print(p)\n",
        "\n",
        "a,b,c=p # unpacking\n",
        "print(a,b,c)"
      ],
      "metadata": {
        "colab": {
          "base_uri": "https://localhost:8080/"
        },
        "id": "qK1n3hqqkraV",
        "outputId": "e62b0748-9388-4a28-96a2-de67ff63801e"
      },
      "execution_count": null,
      "outputs": [
        {
          "output_type": "stream",
          "name": "stdout",
          "text": [
            "(10, 20, 30)\n",
            "10 20 30\n"
          ]
        }
      ]
    },
    {
      "cell_type": "code",
      "source": [
        "#size of tuple\n",
        "#Approach 1\n",
        "\n",
        "import sys\n",
        "l=(20,\"46\",\"76\",\"44\")\n",
        "print(sys.getsizeof(l))"
      ],
      "metadata": {
        "id": "ngkac3bflKzA",
        "colab": {
          "base_uri": "https://localhost:8080/"
        },
        "outputId": "515a548b-f861-4c74-b1f4-3c1048c1863b"
      },
      "execution_count": null,
      "outputs": [
        {
          "output_type": "stream",
          "name": "stdout",
          "text": [
            "72\n"
          ]
        }
      ]
    },
    {
      "cell_type": "code",
      "source": [
        "#size of tuple\n",
        "#Approach 1\n",
        "\n",
        "l=(20,\"46\",\"76\",\"44\")\n",
        "print(l.__sizeof__())"
      ],
      "metadata": {
        "colab": {
          "base_uri": "https://localhost:8080/"
        },
        "id": "kJ0lzb7DhP5p",
        "outputId": "24ba035e-193f-423e-eb91-1655a2586a9f"
      },
      "execution_count": null,
      "outputs": [
        {
          "output_type": "stream",
          "name": "stdout",
          "text": [
            "56\n"
          ]
        }
      ]
    },
    {
      "cell_type": "code",
      "source": [
        "#Python program to create a list of tuples from given list having number and its cube in each tuple\n",
        "#Approach 1\n",
        "\n",
        "j=[2,3,4,5,6,7]\n",
        "k=[(i,i**3) for i in j]\n",
        "print(k)"
      ],
      "metadata": {
        "colab": {
          "base_uri": "https://localhost:8080/"
        },
        "id": "jEGI7thBiU3U",
        "outputId": "f5c60779-79d6-4233-af09-3762abb98f2f"
      },
      "execution_count": null,
      "outputs": [
        {
          "output_type": "stream",
          "name": "stdout",
          "text": [
            "[(2, 8), (3, 27), (4, 64), (5, 125), (6, 216), (7, 343)]\n"
          ]
        }
      ]
    },
    {
      "cell_type": "code",
      "source": [
        "#Python program to create a list of tuples from given list having number and its cube in each tuple\n",
        "#Approach 2\n",
        "\n",
        "j=[2,3,4,5,6,7]\n",
        "k=[(i,pow(i,3)) for i in j]\n",
        "print(k)"
      ],
      "metadata": {
        "colab": {
          "base_uri": "https://localhost:8080/"
        },
        "id": "-rfoWnMnjjkc",
        "outputId": "2a20a289-220f-4808-a5d0-c4fe79a43b6d"
      },
      "execution_count": null,
      "outputs": [
        {
          "output_type": "stream",
          "name": "stdout",
          "text": [
            "[(2, 8), (3, 27), (4, 64), (5, 125), (6, 216), (7, 343)]\n"
          ]
        }
      ]
    },
    {
      "cell_type": "code",
      "source": [
        "#Python – Adding Tuple to List (part 1)\n",
        "\n",
        "j=[2,3,4,5,6,7]\n",
        "tup=29,56\n",
        "j=j+tup #showing error bcoz by this line it creates a new object and trying to add two different datatypes\n",
        "print(j)\n"
      ],
      "metadata": {
        "colab": {
          "base_uri": "https://localhost:8080/",
          "height": 193
        },
        "id": "1KXXcAFmkt-z",
        "outputId": "8c908988-30f9-4597-b82b-547c33398406"
      },
      "execution_count": null,
      "outputs": [
        {
          "output_type": "error",
          "ename": "TypeError",
          "evalue": "can only concatenate list (not \"tuple\") to list",
          "traceback": [
            "\u001b[0;31m---------------------------------------------------------------------------\u001b[0m",
            "\u001b[0;31mTypeError\u001b[0m                                 Traceback (most recent call last)",
            "\u001b[0;32m<ipython-input-27-f26b9298e77d>\u001b[0m in \u001b[0;36m<cell line: 5>\u001b[0;34m()\u001b[0m\n\u001b[1;32m      3\u001b[0m \u001b[0ml\u001b[0m\u001b[0;34m=\u001b[0m\u001b[0;34m[\u001b[0m\u001b[0;34m]\u001b[0m\u001b[0;34m\u001b[0m\u001b[0;34m\u001b[0m\u001b[0m\n\u001b[1;32m      4\u001b[0m \u001b[0mtup\u001b[0m\u001b[0;34m=\u001b[0m\u001b[0;36m29\u001b[0m\u001b[0;34m,\u001b[0m\u001b[0;36m56\u001b[0m\u001b[0;34m\u001b[0m\u001b[0;34m\u001b[0m\u001b[0m\n\u001b[0;32m----> 5\u001b[0;31m \u001b[0mj\u001b[0m\u001b[0;34m=\u001b[0m\u001b[0mj\u001b[0m\u001b[0;34m+\u001b[0m\u001b[0mtup\u001b[0m\u001b[0;34m\u001b[0m\u001b[0;34m\u001b[0m\u001b[0m\n\u001b[0m\u001b[1;32m      6\u001b[0m \u001b[0mprint\u001b[0m\u001b[0;34m(\u001b[0m\u001b[0mj\u001b[0m\u001b[0;34m)\u001b[0m\u001b[0;34m\u001b[0m\u001b[0;34m\u001b[0m\u001b[0m\n",
            "\u001b[0;31mTypeError\u001b[0m: can only concatenate list (not \"tuple\") to list"
          ]
        }
      ]
    },
    {
      "cell_type": "code",
      "source": [
        "#Python – Adding Tuple to List (part 2)\n",
        "\n",
        "j=[2,3,4,5,6,7]\n",
        "tup=29,56\n",
        "j+=tup #not showing error bcoz  this line is equal to j.extend()\n",
        "print(j)"
      ],
      "metadata": {
        "colab": {
          "base_uri": "https://localhost:8080/"
        },
        "id": "ozcJ3RpBtbRw",
        "outputId": "144d7690-d586-42d7-96eb-e6a9429b1784"
      },
      "execution_count": null,
      "outputs": [
        {
          "output_type": "stream",
          "name": "stdout",
          "text": [
            "[2, 3, 4, 5, 6, 7, 29, 56]\n"
          ]
        }
      ]
    },
    {
      "cell_type": "code",
      "source": [
        "#proof of part 2\n",
        "\n",
        "j=[2,3,4,5,6,7]\n",
        "tup=29,56\n",
        "j.extend(tup)\n",
        "print(j)"
      ],
      "metadata": {
        "colab": {
          "base_uri": "https://localhost:8080/"
        },
        "id": "TZGK1XBjt9au",
        "outputId": "894aa618-e502-4808-fbfa-ff64821ab195"
      },
      "execution_count": null,
      "outputs": [
        {
          "output_type": "stream",
          "name": "stdout",
          "text": [
            "[2, 3, 4, 5, 6, 7, 29, 56]\n"
          ]
        }
      ]
    },
    {
      "cell_type": "code",
      "source": [
        "#Python – Adding Tuple to List (part 3)\n",
        "\n",
        "j=[2,3,4,5,6,7]\n",
        "tup=29,56\n",
        "#j+=tup #not showing error bcoz  this line is equal to j.extend()\n",
        "print(list(tup)+j)"
      ],
      "metadata": {
        "colab": {
          "base_uri": "https://localhost:8080/"
        },
        "id": "5q5zSAuJwhs2",
        "outputId": "01aa2506-2953-400b-86a3-6cf4dee47d7d"
      },
      "execution_count": null,
      "outputs": [
        {
          "output_type": "stream",
          "name": "stdout",
          "text": [
            "[29, 56, 2, 3, 4, 5, 6, 7]\n"
          ]
        }
      ]
    },
    {
      "cell_type": "code",
      "source": [
        "#Python – Adding Tuple to List\n",
        "\n",
        "j=[2,3,4,5,6,7]\n",
        "tup=29,56\n",
        "print(\"Original List:\",j)\n",
        "print(\"Adding tuple to list:\",tuple(list(tup)+j))\n"
      ],
      "metadata": {
        "colab": {
          "base_uri": "https://localhost:8080/"
        },
        "id": "uISZ1OEznjEb",
        "outputId": "d8bd7663-31c3-4130-f842-490c4c9c42ab"
      },
      "execution_count": 2,
      "outputs": [
        {
          "output_type": "stream",
          "name": "stdout",
          "text": [
            "Original List: [2, 3, 4, 5, 6, 7]\n",
            "Adding tuple to list: (29, 56, 2, 3, 4, 5, 6, 7)\n"
          ]
        }
      ]
    }
  ]
}