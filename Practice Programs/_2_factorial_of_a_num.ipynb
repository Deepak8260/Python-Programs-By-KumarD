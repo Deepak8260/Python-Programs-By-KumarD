{
 "cells": [
  {
   "cell_type": "code",
   "execution_count": 13,
   "metadata": {},
   "outputs": [
    {
     "name": "stdout",
     "output_type": "stream",
     "text": [
      "The factorial of 5 is 120\n"
     ]
    }
   ],
   "source": [
    "# using user-defined function with no return statement and no argument (1st Way)\n",
    "a=input(\"Enter a number: \")\n",
    "i=1\n",
    "f=1\n",
    "def fact():\n",
    "    global i,f #if we'll not use global inside fact then it will consider i,f as local variable and will give an UnboundLocalError\n",
    "    while i<=int(a):\n",
    "        f=f*i\n",
    "        i+=1\n",
    "    print(\"The factorial of\",a,\"is\",f)\n",
    "fact()"
   ]
  },
  {
   "cell_type": "code",
   "execution_count": 1,
   "metadata": {},
   "outputs": [
    {
     "ename": "UnboundLocalError",
     "evalue": "cannot access local variable 'i' where it is not associated with a value",
     "output_type": "error",
     "traceback": [
      "\u001b[1;31m---------------------------------------------------------------------------\u001b[0m",
      "\u001b[1;31mUnboundLocalError\u001b[0m                         Traceback (most recent call last)",
      "Cell \u001b[1;32mIn[1], line 10\u001b[0m\n\u001b[0;32m      8\u001b[0m         i\u001b[38;5;241m+\u001b[39m\u001b[38;5;241m=\u001b[39m\u001b[38;5;241m1\u001b[39m\n\u001b[0;32m      9\u001b[0m     \u001b[38;5;28mprint\u001b[39m(\u001b[38;5;124m\"\u001b[39m\u001b[38;5;124mThe factorial of\u001b[39m\u001b[38;5;124m\"\u001b[39m,a,\u001b[38;5;124m\"\u001b[39m\u001b[38;5;124mis\u001b[39m\u001b[38;5;124m\"\u001b[39m,f)\n\u001b[1;32m---> 10\u001b[0m \u001b[43mfact\u001b[49m\u001b[43m(\u001b[49m\u001b[43m)\u001b[49m\n",
      "Cell \u001b[1;32mIn[1], line 6\u001b[0m, in \u001b[0;36mfact\u001b[1;34m()\u001b[0m\n\u001b[0;32m      4\u001b[0m \u001b[38;5;28;01mdef\u001b[39;00m \u001b[38;5;21mfact\u001b[39m():\n\u001b[0;32m      5\u001b[0m      \u001b[38;5;66;03m#Here\u001b[39;00m\n\u001b[1;32m----> 6\u001b[0m     \u001b[38;5;28;01mwhile\u001b[39;00m \u001b[43mi\u001b[49m\u001b[38;5;241m<\u001b[39m\u001b[38;5;241m=\u001b[39m\u001b[38;5;28mint\u001b[39m(a):\n\u001b[0;32m      7\u001b[0m         f\u001b[38;5;241m=\u001b[39mf\u001b[38;5;241m*\u001b[39mi\n\u001b[0;32m      8\u001b[0m         i\u001b[38;5;241m+\u001b[39m\u001b[38;5;241m=\u001b[39m\u001b[38;5;241m1\u001b[39m\n",
      "\u001b[1;31mUnboundLocalError\u001b[0m: cannot access local variable 'i' where it is not associated with a value"
     ]
    }
   ],
   "source": [
    "a=input(\"Enter a number: \")\n",
    "i=1\n",
    "f=1\n",
    "def fact():\n",
    "     #Here it is showing UnboundLocalError as the interpreter thinks f and i are local variables\n",
    "    while i<=int(a):\n",
    "        f=f*i\n",
    "        i+=1\n",
    "    print(\"The factorial of\",a,\"is\",f)\n",
    "fact()"
   ]
  },
  {
   "cell_type": "code",
   "execution_count": 14,
   "metadata": {},
   "outputs": [
    {
     "name": "stdout",
     "output_type": "stream",
     "text": [
      "The factorial of 6 is 720\n"
     ]
    }
   ],
   "source": [
    "a=input(\"Enter a number: \")\n",
    "\n",
    "def fact():\n",
    "    i=f=1 #another way to not use global keyword is to define i and f inside the  function fact()\n",
    "    while i<=int(a):\n",
    "        f=f*i\n",
    "        i+=1\n",
    "    print(\"The factorial of\",a,\"is\",f)\n",
    "fact()"
   ]
  },
  {
   "cell_type": "code",
   "execution_count": 2,
   "metadata": {},
   "outputs": [
    {
     "name": "stdout",
     "output_type": "stream",
     "text": [
      "The factorial of 7 is 5040\n"
     ]
    }
   ],
   "source": [
    "# using user-defined function with no return statement and with argument \n",
    "a=input(\"Enter a number: \")\n",
    "def fact(x):\n",
    "    i=f=1\n",
    "    while i<=int(a):\n",
    "        f*=i\n",
    "        i+=1\n",
    "    print(\"The factorial of {} is\".format(a),f)\n",
    "    \n",
    "fact(a)"
   ]
  },
  {
   "cell_type": "code",
   "execution_count": 6,
   "metadata": {},
   "outputs": [
    {
     "name": "stdout",
     "output_type": "stream",
     "text": [
      "Factorial of 6 is 720\n"
     ]
    }
   ],
   "source": [
    "# using user-defined function with  return statement and no argument \n",
    "a=input(\"Enter a number: \")\n",
    "def fact():\n",
    "    i=1\n",
    "    f=1\n",
    "    for i in range(i,int(a)+1):\n",
    "        f*=i\n",
    "        i+=1\n",
    "    return f\n",
    "\n",
    "x=fact()\n",
    "print(\"Factorial of\",a,\"is\",x)"
   ]
  },
  {
   "cell_type": "code",
   "execution_count": 1,
   "metadata": {},
   "outputs": [
    {
     "name": "stdout",
     "output_type": "stream",
     "text": [
      "Factorial of 6 is 720\n"
     ]
    }
   ],
   "source": [
    "# using user-defined function with  return statement and with argument \n",
    "a=input(\"Enter a number\")\n",
    "\n",
    "def fact(x):\n",
    "    i=f=1\n",
    "    for i in range(i,int(a)+1):\n",
    "        f*=i\n",
    "        i+=1\n",
    "    return f\n",
    "\n",
    "num=fact(a)\n",
    "\n",
    "print(\"Factorial of\",a,\"is\",num)"
   ]
  },
  {
   "cell_type": "code",
   "execution_count": null,
   "metadata": {},
   "outputs": [],
   "source": [
    "# using factorial() function\n",
    "from math import factorial\n",
    "\n",
    "\n",
    "a=input(\"enter a number\")\n",
    "x=factorial"
   ]
  },
  {
   "cell_type": "code",
   "execution_count": null,
   "metadata": {},
   "outputs": [],
   "source": []
  }
 ],
 "metadata": {
  "kernelspec": {
   "display_name": "Python 3",
   "language": "python",
   "name": "python3"
  },
  "language_info": {
   "codemirror_mode": {
    "name": "ipython",
    "version": 3
   },
   "file_extension": ".py",
   "mimetype": "text/x-python",
   "name": "python",
   "nbconvert_exporter": "python",
   "pygments_lexer": "ipython3",
   "version": "3.12.2"
  }
 },
 "nbformat": 4,
 "nbformat_minor": 2
}
