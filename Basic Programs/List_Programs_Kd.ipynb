{
  "nbformat": 4,
  "nbformat_minor": 0,
  "metadata": {
    "colab": {
      "provenance": []
    },
    "kernelspec": {
      "name": "python3",
      "display_name": "Python 3"
    },
    "language_info": {
      "name": "python"
    }
  },
  "cells": [
    {
      "cell_type": "markdown",
      "source": [
        "Q1. Python program to interchange first and last elements in a list"
      ],
      "metadata": {
        "id": "L8gf29aJ6HRH"
      }
    },
    {
      "cell_type": "code",
      "execution_count": null,
      "metadata": {
        "id": "TeMroFHLtN2O",
        "colab": {
          "base_uri": "https://localhost:8080/"
        },
        "outputId": "ecf9c190-73a6-4742-85f8-23c4afb95cf5"
      },
      "outputs": [
        {
          "output_type": "stream",
          "name": "stdout",
          "text": [
            "Before Swapping: [10, 20, 30, 40, 50, 60, 70, 80]\n",
            "After Swapping: [80, 20, 30, 40, 50, 60, 70, 10]\n"
          ]
        }
      ],
      "source": [
        "#Q1.1 Python program to interchange first and last elements in a list\n",
        "\n",
        "#Approach 1\n",
        "\n",
        "l=[10,20,30,40,50,60,70,80]\n",
        "\n",
        "print(\"Before Swapping:\",l)\n",
        "\n",
        "l1=l[0]\n",
        "l[0]=l[-1]\n",
        "l[-1]=l1\n",
        "\n",
        "print(\"After Swapping:\",l)"
      ]
    },
    {
      "cell_type": "code",
      "source": [
        "#1.2\n",
        "#Approach 2\n",
        "l=[10,20,30,40,50,60,70,80]\n",
        "\n",
        "print(\"Before Swapping:\",l)\n",
        "\n",
        "n=len(l)\n",
        "t=l[0]\n",
        "l[0]=l[n-1]\n",
        "l[n-1]=l[0]\n",
        "\n",
        "print(\"After Swapping:\",l)"
      ],
      "metadata": {
        "id": "HAO95KSyxkAD",
        "colab": {
          "base_uri": "https://localhost:8080/"
        },
        "outputId": "0c952b56-7726-4b64-f0f2-d9c07f01e81f"
      },
      "execution_count": null,
      "outputs": [
        {
          "output_type": "stream",
          "name": "stdout",
          "text": [
            "Before Swapping: [10, 20, 30, 40, 50, 60, 70, 80]\n",
            "After Swapping: [80, 20, 30, 40, 50, 60, 70, 80]\n"
          ]
        }
      ]
    },
    {
      "cell_type": "code",
      "source": [
        "#1.3\n",
        "#Approach 3\n",
        "#using packing and unpacking concept\n",
        "\n",
        "l=[10,20,30,40,50,60,70,80]\n",
        "\n",
        "print(\"Before swapping:\",l)\n",
        "\n",
        "t=l[0],l[-1]\n",
        "l[-1],l[0]=t\n",
        "\n",
        "print(\"Ater Swapping:\",l)"
      ],
      "metadata": {
        "colab": {
          "base_uri": "https://localhost:8080/"
        },
        "id": "n2qCcQXt5__c",
        "outputId": "93734acc-f9de-4460-d37d-8622e0ad28b5"
      },
      "execution_count": null,
      "outputs": [
        {
          "output_type": "stream",
          "name": "stdout",
          "text": [
            "Before swapping: [10, 20, 30, 40, 50, 60, 70, 80]\n",
            "Ater Swapping: [80, 20, 30, 40, 50, 60, 70, 10]\n"
          ]
        }
      ]
    },
    {
      "cell_type": "code",
      "source": [
        "#1.4\n",
        "#Approach 4\n",
        "\n",
        "l=[10,20,30,40,50,60,70,80]\n",
        "\n",
        "end,*middle,start=l\n",
        "l=start,*middle,end\n",
        "\n",
        "print(l)"
      ],
      "metadata": {
        "colab": {
          "base_uri": "https://localhost:8080/"
        },
        "id": "AO_PYZlPBAM8",
        "outputId": "2b9f5c64-74e0-4b8d-8d42-57f46b93e431"
      },
      "execution_count": null,
      "outputs": [
        {
          "output_type": "stream",
          "name": "stdout",
          "text": [
            "(80, 20, 30, 40, 50, 60, 70, 10)\n"
          ]
        }
      ]
    },
    {
      "cell_type": "code",
      "source": [
        "#1.5\n",
        "#Approach 5\n",
        "\n",
        "l=[10,20,30,40,50,60,70,80]\n",
        "print(l)\n",
        "\n",
        "t=l.pop(0)\n",
        "s=l.pop(-1)\n",
        "l.insert(0,s)\n",
        "l.append(t)\n",
        "\n",
        "print(l)"
      ],
      "metadata": {
        "colab": {
          "base_uri": "https://localhost:8080/"
        },
        "id": "vohfAYCBBpz8",
        "outputId": "66c208e7-b335-4520-e5ae-69f427a57193"
      },
      "execution_count": null,
      "outputs": [
        {
          "output_type": "stream",
          "name": "stdout",
          "text": [
            "[10, 20, 30, 40, 50, 60, 70, 80]\n",
            "[80, 20, 30, 40, 50, 60, 70, 10]\n"
          ]
        }
      ]
    },
    {
      "cell_type": "code",
      "source": [
        "#1.6\n",
        "#Approach 6\n",
        "\n",
        "l=[10,20,30,40,50,60,70,80]\n",
        "\n",
        "print(\"Before Swapping:\",l)\n",
        "\n",
        "l[0],l[-1]=l[-1],l[0]\n",
        "\n",
        "print(\"After Swapping:\",l)"
      ],
      "metadata": {
        "colab": {
          "base_uri": "https://localhost:8080/"
        },
        "id": "CZDDZjRnDp5u",
        "outputId": "63b3eca5-6a1e-4c47-d13d-220c06d069b9"
      },
      "execution_count": null,
      "outputs": [
        {
          "output_type": "stream",
          "name": "stdout",
          "text": [
            "Before Swapping: [10, 20, 30, 40, 50, 60, 70, 80]\n",
            "After Swapping: [80, 20, 30, 40, 50, 60, 70, 10]\n"
          ]
        }
      ]
    },
    {
      "cell_type": "code",
      "source": [
        "#1.7\n",
        "#Approach 7\n",
        "l=[10, 20, 30, 40, 50, 60, 70, 80]\n",
        "l=l[-1:]+l[1:-1]+l[:1]\n",
        "print(l)"
      ],
      "metadata": {
        "colab": {
          "base_uri": "https://localhost:8080/"
        },
        "id": "0LROs1ySEKf5",
        "outputId": "e88ed760-854e-4fe0-d008-5138e2aa0742"
      },
      "execution_count": null,
      "outputs": [
        {
          "output_type": "stream",
          "name": "stdout",
          "text": [
            "[80, 20, 30, 40, 50, 60, 70, 10]\n"
          ]
        }
      ]
    },
    {
      "cell_type": "markdown",
      "source": [
        "2. Swap Two Elements in a List\n"
      ],
      "metadata": {
        "id": "Jut1OfWU6Q56"
      }
    },
    {
      "cell_type": "code",
      "source": [
        "#2.1 Swap Two Elements in a List\n",
        "\n",
        "l=[10,203,73,67,4342,6,43,25,8,453,]\n",
        "p1=eval(input(\"Enter  1st index number:\"))\n",
        "p2=eval(input(\"Enter  2nd index number:\"))\n",
        "l[p1],l[p2]=l[p2],l[p1]\n",
        "print(l)"
      ],
      "metadata": {
        "id": "UUY8l9bt5w14"
      },
      "execution_count": null,
      "outputs": []
    },
    {
      "cell_type": "markdown",
      "source": [
        "3. Check if element exists in list"
      ],
      "metadata": {
        "id": "lz0UeFj96l2r"
      }
    },
    {
      "cell_type": "code",
      "source": [
        "#3.1\n",
        "l=[10, 20, 30, 40, 50, 60, 70, 80]\n",
        "x=eval(input(\"enter the element to search\"))\n",
        "if x in l:\n",
        "  print(f\"{x} is present\")\n",
        "else:\n",
        "  print(\"Sorry! The element is not present in the list. Please try again\")"
      ],
      "metadata": {
        "colab": {
          "base_uri": "https://localhost:8080/"
        },
        "id": "lov2-BtT6oNE",
        "outputId": "b9602ab4-5c82-48fc-e803-b51e890272f3"
      },
      "execution_count": null,
      "outputs": [
        {
          "output_type": "stream",
          "name": "stdout",
          "text": [
            "enter the element to search50\n",
            "50 is present\n"
          ]
        }
      ]
    },
    {
      "cell_type": "code",
      "source": [
        "#3.2\n",
        "l=[10, 20, 30, 40, 50, 60, 70, 80]\n",
        "x=eval(input(\"enter the element to search:\"))\n",
        "y=len(l)-1\n",
        "for i in range(y):\n",
        "  if l[i] == x:\n",
        "    print(f\"{x} is present\")\n"
      ],
      "metadata": {
        "colab": {
          "base_uri": "https://localhost:8080/"
        },
        "id": "qTBsawWg7fdQ",
        "outputId": "01d655d0-481a-4a6b-8696-0cab62543c23"
      },
      "execution_count": null,
      "outputs": [
        {
          "output_type": "stream",
          "name": "stdout",
          "text": [
            "enter the element to search:60\n",
            "60 is present\n"
          ]
        }
      ]
    },
    {
      "cell_type": "code",
      "source": [
        "#3.3\n",
        "\n",
        "l=[10, 20, 30, 40, 50, 60, 70, 80]\n",
        "x=eval(input(\"enter the element to search:\"))\n",
        "y=l.count(x)\n",
        "if y>0:\n",
        "  print(\"The element is present\")\n",
        "else:\n",
        "  print(\"Not Present\")"
      ],
      "metadata": {
        "colab": {
          "base_uri": "https://localhost:8080/"
        },
        "id": "tE8B1KsCCwjN",
        "outputId": "d5179248-8212-47c7-e7fd-5a5301c0acf1"
      },
      "execution_count": null,
      "outputs": [
        {
          "output_type": "stream",
          "name": "stdout",
          "text": [
            "enter the element to search:80\n",
            "The element is present\n"
          ]
        }
      ]
    },
    {
      "cell_type": "markdown",
      "source": [
        "4. Count positive and negative numbers in a list"
      ],
      "metadata": {
        "id": "m2Z5BrZYGjdt"
      }
    },
    {
      "cell_type": "code",
      "source": [
        "#4.1\n",
        "\n",
        "l=[10, -20, 30, 40, -50, 60, 70, -80]\n",
        "c=d=0\n",
        "\n",
        "for i in l:\n",
        "  if i >= 0:\n",
        "    c+=1\n",
        "  else:\n",
        "    d+=1\n",
        "\n",
        "print(f\"Total number of Positive number present in the list are {c}\")\n",
        "print(f\"Total number of Negative number present in the list are {d}\")\n"
      ],
      "metadata": {
        "colab": {
          "base_uri": "https://localhost:8080/"
        },
        "id": "1WcjP6ZbDZeo",
        "outputId": "10a448ef-c8ff-44f5-8c85-32ad5bfd71ef"
      },
      "execution_count": null,
      "outputs": [
        {
          "output_type": "stream",
          "name": "stdout",
          "text": [
            "Total number of Positive number present in the list are 5\n",
            "Total number of Negative number present in the list are 3\n"
          ]
        }
      ]
    },
    {
      "cell_type": "code",
      "source": [
        "#4.2\n",
        "l=[10, -20, 30, 40, -50, 60, 70, -80]\n",
        "x=[num for num in l if num>=0]\n",
        "print(f\"Total number of Positive number present in the list are:{len(x)}\")\n",
        "print(f\"Total number of Negative number present in the list are:{len(l)-len(x)}\")"
      ],
      "metadata": {
        "colab": {
          "base_uri": "https://localhost:8080/"
        },
        "id": "NmyV8pRmNVRn",
        "outputId": "7b15ea2f-9476-4b5c-9d0a-405972036ed6"
      },
      "execution_count": null,
      "outputs": [
        {
          "output_type": "stream",
          "name": "stdout",
          "text": [
            "Total number of Positive number present in the list are:5\n",
            "Total number of Negative number present in the list are:3\n"
          ]
        }
      ]
    },
    {
      "cell_type": "code",
      "source": [
        "#4.3\n",
        "l=['10', '-20', '30', '40', '-50', '60', '70', '-80']\n",
        "c=0\n",
        "for i in l:\n",
        "  if i.startswith('-'):\n",
        "    c+=1\n",
        "print(f\"Total number of Positive number present in the list are:{len(l)-c}\")\n",
        "print(f\"Total number of Negative number present in the list are:{c}\")"
      ],
      "metadata": {
        "colab": {
          "base_uri": "https://localhost:8080/"
        },
        "id": "XkKzXMwBP4Ir",
        "outputId": "6169aabf-437e-430c-c7c9-52d059797027"
      },
      "execution_count": null,
      "outputs": [
        {
          "output_type": "stream",
          "name": "stdout",
          "text": [
            "Total number of Positive number present in the list are:5\n",
            "Total number of Negative number present in the list are:3\n"
          ]
        }
      ]
    },
    {
      "cell_type": "code",
      "source": [
        "#convert string to list\n",
        "s=\"Kumar Deepak\"\n",
        "l=s.split()\n",
        "#l=list(s)\n",
        "print(l)"
      ],
      "metadata": {
        "colab": {
          "base_uri": "https://localhost:8080/"
        },
        "id": "ek8cnCNO0wRe",
        "outputId": "f3619963-0c97-48e9-a978-68cfa83b031a"
      },
      "execution_count": 8,
      "outputs": [
        {
          "output_type": "stream",
          "name": "stdout",
          "text": [
            "['Kumar', 'Deepak']\n"
          ]
        }
      ]
    },
    {
      "cell_type": "code",
      "source": [
        "#Slice Operator\n",
        "l=list(\"KumarDeepak\")\n",
        "print(l)\n",
        "print(l[1:-2:2])"
      ],
      "metadata": {
        "colab": {
          "base_uri": "https://localhost:8080/"
        },
        "id": "PtmSdwHV3MJb",
        "outputId": "c15ce743-8015-4b8c-c857-ab1f933148e2"
      },
      "execution_count": 14,
      "outputs": [
        {
          "output_type": "stream",
          "name": "stdout",
          "text": [
            "['K', 'u', 'm', 'a', 'r', 'D', 'e', 'e', 'p', 'a', 'k']\n",
            "['u', 'a', 'D', 'e']\n"
          ]
        }
      ]
    },
    {
      "cell_type": "code",
      "source": [
        "#Functions used in list that shows correct o/p\n",
        "l=list(\"steriotype\")\n",
        "s=list(\"deepak\")\n",
        "\n",
        "print(len(l))\n",
        "\n",
        "print(l.count('e'))\n",
        "\n",
        "print(l.index('e'))\n",
        "\n",
        "l.append('g')\n",
        "print(l)\n",
        "\n",
        "l.insert(2,'z')\n",
        "print(l)\n",
        "\n",
        "l.extend(s)\n",
        "print(l)\n",
        "\n",
        "l.remove('g')\n",
        "print(l)\n",
        "\n",
        "print(l.pop(4))\n",
        "print(l)\n",
        "\n"
      ],
      "metadata": {
        "colab": {
          "base_uri": "https://localhost:8080/"
        },
        "id": "mEJZHwGJ3q_f",
        "outputId": "0921b19f-7294-4ba9-ee53-24b5aaee6cf1"
      },
      "execution_count": 56,
      "outputs": [
        {
          "output_type": "stream",
          "name": "stdout",
          "text": [
            "10\n",
            "2\n",
            "2\n",
            "['s', 't', 'e', 'r', 'i', 'o', 't', 'y', 'p', 'e', 'g']\n",
            "['s', 't', 'z', 'e', 'r', 'i', 'o', 't', 'y', 'p', 'e', 'g']\n",
            "['s', 't', 'z', 'e', 'r', 'i', 'o', 't', 'y', 'p', 'e', 'g', 'd', 'e', 'e', 'p', 'a', 'k']\n",
            "['s', 't', 'z', 'e', 'r', 'i', 'o', 't', 'y', 'p', 'e', 'd', 'e', 'e', 'p', 'a', 'k']\n",
            "r\n",
            "['s', 't', 'z', 'e', 'i', 'o', 't', 'y', 'p', 'e', 'd', 'e', 'e', 'p', 'a', 'k']\n"
          ]
        }
      ]
    },
    {
      "cell_type": "code",
      "source": [
        "#Order Elements in a list\n",
        "\n",
        "s=list(\"deepak\")\n",
        "t=list(\"deepak\")\n",
        "\n",
        "s.sort()\n",
        "print(\"The sorted list is\",s)\n",
        "\n",
        "s.reverse()\n",
        "print(\"The reversed list is\",s)\n",
        "\n",
        "\n",
        "\n",
        "#the combination of above two lines can be like this\n",
        "t.sort(reverse=True)\n",
        "print(\"The New List is \",t)"
      ],
      "metadata": {
        "colab": {
          "base_uri": "https://localhost:8080/"
        },
        "id": "t8on-cOFJlVL",
        "outputId": "1eeca700-8164-4e94-9312-ad2ec71a7086"
      },
      "execution_count": 61,
      "outputs": [
        {
          "output_type": "stream",
          "name": "stdout",
          "text": [
            "The sorted list is ['a', 'd', 'e', 'e', 'k', 'p']\n",
            "The reversed list is ['p', 'k', 'e', 'e', 'd', 'a']\n",
            "The New List is  ['p', 'k', 'e', 'e', 'd', 'a']\n"
          ]
        }
      ]
    },
    {
      "cell_type": "code",
      "source": [
        "#Functions used in list that shows in-correct o/p\n",
        "l=list(\"steriotype\")\n",
        "s=list(\"Deepak\")\n",
        "\n",
        "print(len(l))\n",
        "print(len(s))\n",
        "\n",
        "print(l.count('q'))\n",
        "\n",
        "print(l.index('j'))\n",
        "\n"
      ],
      "metadata": {
        "colab": {
          "base_uri": "https://localhost:8080/",
          "height": 263
        },
        "outputId": "467dd066-c329-4c6e-aaa9-eb96ea998a44",
        "id": "oB8kXa-HFFUR"
      },
      "execution_count": 45,
      "outputs": [
        {
          "output_type": "stream",
          "name": "stdout",
          "text": [
            "10\n",
            "6\n",
            "0\n"
          ]
        },
        {
          "output_type": "error",
          "ename": "ValueError",
          "evalue": "'j' is not in list",
          "traceback": [
            "\u001b[0;31m---------------------------------------------------------------------------\u001b[0m",
            "\u001b[0;31mValueError\u001b[0m                                Traceback (most recent call last)",
            "\u001b[0;32m<ipython-input-45-4a6e148b8cdc>\u001b[0m in \u001b[0;36m<cell line: 10>\u001b[0;34m()\u001b[0m\n\u001b[1;32m      8\u001b[0m \u001b[0mprint\u001b[0m\u001b[0;34m(\u001b[0m\u001b[0ml\u001b[0m\u001b[0;34m.\u001b[0m\u001b[0mcount\u001b[0m\u001b[0;34m(\u001b[0m\u001b[0;34m'q'\u001b[0m\u001b[0;34m)\u001b[0m\u001b[0;34m)\u001b[0m\u001b[0;34m\u001b[0m\u001b[0;34m\u001b[0m\u001b[0m\n\u001b[1;32m      9\u001b[0m \u001b[0;34m\u001b[0m\u001b[0m\n\u001b[0;32m---> 10\u001b[0;31m \u001b[0mprint\u001b[0m\u001b[0;34m(\u001b[0m\u001b[0ml\u001b[0m\u001b[0;34m.\u001b[0m\u001b[0mindex\u001b[0m\u001b[0;34m(\u001b[0m\u001b[0;34m'j'\u001b[0m\u001b[0;34m)\u001b[0m\u001b[0;34m)\u001b[0m\u001b[0;34m\u001b[0m\u001b[0;34m\u001b[0m\u001b[0m\n\u001b[0m\u001b[1;32m     11\u001b[0m \u001b[0;34m\u001b[0m\u001b[0m\n\u001b[1;32m     12\u001b[0m \u001b[0ml\u001b[0m\u001b[0;34m.\u001b[0m\u001b[0mappend\u001b[0m\u001b[0;34m(\u001b[0m\u001b[0;34m'l'\u001b[0m\u001b[0;34m)\u001b[0m\u001b[0;34m\u001b[0m\u001b[0;34m\u001b[0m\u001b[0m\n",
            "\u001b[0;31mValueError\u001b[0m: 'j' is not in list"
          ]
        }
      ]
    },
    {
      "cell_type": "code",
      "source": [
        "#Functions used in list that shows in-correct o/p\n",
        "l=list(\"steriotype\")\n",
        "s=list(\"Deepak\")\n",
        "\n",
        "\n",
        "l.append('l')\n",
        "print(l)\n",
        "\n",
        "l.insert(100,'z')\n",
        "print(l)\n",
        "\n",
        "l.extend(k)\n",
        "print(l)\n",
        "\n"
      ],
      "metadata": {
        "colab": {
          "base_uri": "https://localhost:8080/",
          "height": 245
        },
        "id": "o9SjYd7PH4tG",
        "outputId": "36011ccf-74ae-465a-c787-d670f2237e66"
      },
      "execution_count": 46,
      "outputs": [
        {
          "output_type": "stream",
          "name": "stdout",
          "text": [
            "['s', 't', 'e', 'r', 'i', 'o', 't', 'y', 'p', 'e', 'l']\n",
            "['s', 't', 'e', 'r', 'i', 'o', 't', 'y', 'p', 'e', 'l', 'z']\n"
          ]
        },
        {
          "output_type": "error",
          "ename": "NameError",
          "evalue": "name 'k' is not defined",
          "traceback": [
            "\u001b[0;31m---------------------------------------------------------------------------\u001b[0m",
            "\u001b[0;31mNameError\u001b[0m                                 Traceback (most recent call last)",
            "\u001b[0;32m<ipython-input-46-44f7fae29841>\u001b[0m in \u001b[0;36m<cell line: 12>\u001b[0;34m()\u001b[0m\n\u001b[1;32m     10\u001b[0m \u001b[0mprint\u001b[0m\u001b[0;34m(\u001b[0m\u001b[0ml\u001b[0m\u001b[0;34m)\u001b[0m\u001b[0;34m\u001b[0m\u001b[0;34m\u001b[0m\u001b[0m\n\u001b[1;32m     11\u001b[0m \u001b[0;34m\u001b[0m\u001b[0m\n\u001b[0;32m---> 12\u001b[0;31m \u001b[0ml\u001b[0m\u001b[0;34m.\u001b[0m\u001b[0mextend\u001b[0m\u001b[0;34m(\u001b[0m\u001b[0mk\u001b[0m\u001b[0;34m)\u001b[0m\u001b[0;34m\u001b[0m\u001b[0;34m\u001b[0m\u001b[0m\n\u001b[0m\u001b[1;32m     13\u001b[0m \u001b[0mprint\u001b[0m\u001b[0;34m(\u001b[0m\u001b[0ml\u001b[0m\u001b[0;34m)\u001b[0m\u001b[0;34m\u001b[0m\u001b[0;34m\u001b[0m\u001b[0m\n\u001b[1;32m     14\u001b[0m \u001b[0;34m\u001b[0m\u001b[0m\n",
            "\u001b[0;31mNameError\u001b[0m: name 'k' is not defined"
          ]
        }
      ]
    },
    {
      "cell_type": "code",
      "source": [
        "#Functions used in list that shows in-correct o/p\n",
        "l=list(\"steriotype\")\n",
        "s=list(\"Deepak\")\n",
        "\n",
        "\n",
        "l.remove('j')\n",
        "print(l)"
      ],
      "metadata": {
        "colab": {
          "base_uri": "https://localhost:8080/",
          "height": 193
        },
        "id": "gKR3-MdnIHXH",
        "outputId": "c9b25b37-ce1c-4292-a437-60642599537e"
      },
      "execution_count": 47,
      "outputs": [
        {
          "output_type": "error",
          "ename": "ValueError",
          "evalue": "list.remove(x): x not in list",
          "traceback": [
            "\u001b[0;31m---------------------------------------------------------------------------\u001b[0m",
            "\u001b[0;31mValueError\u001b[0m                                Traceback (most recent call last)",
            "\u001b[0;32m<ipython-input-47-4b9e191e080f>\u001b[0m in \u001b[0;36m<cell line: 6>\u001b[0;34m()\u001b[0m\n\u001b[1;32m      4\u001b[0m \u001b[0;34m\u001b[0m\u001b[0m\n\u001b[1;32m      5\u001b[0m \u001b[0;34m\u001b[0m\u001b[0m\n\u001b[0;32m----> 6\u001b[0;31m \u001b[0ml\u001b[0m\u001b[0;34m.\u001b[0m\u001b[0mremove\u001b[0m\u001b[0;34m(\u001b[0m\u001b[0;34m'j'\u001b[0m\u001b[0;34m)\u001b[0m\u001b[0;34m\u001b[0m\u001b[0;34m\u001b[0m\u001b[0m\n\u001b[0m\u001b[1;32m      7\u001b[0m \u001b[0mprint\u001b[0m\u001b[0;34m(\u001b[0m\u001b[0ml\u001b[0m\u001b[0;34m)\u001b[0m\u001b[0;34m\u001b[0m\u001b[0;34m\u001b[0m\u001b[0m\n",
            "\u001b[0;31mValueError\u001b[0m: list.remove(x): x not in list"
          ]
        }
      ]
    },
    {
      "cell_type": "code",
      "source": [
        "#Aliasing -Creating Duplicate Reference variable\n",
        "l=[10,20,30,40]\n",
        "l=s\n",
        "print(\"The address of list l is\",id(l))\n",
        "print(\"The address of list s is\",id(s))\n",
        "\n",
        "l[2]=989\n",
        "print(s) #change in l will reflect in s in case of aliasing as both the list objects point to same reference."
      ],
      "metadata": {
        "colab": {
          "base_uri": "https://localhost:8080/"
        },
        "id": "viisqoIEKnij",
        "outputId": "6e9e6cac-218d-440c-8d02-356ea4149373"
      },
      "execution_count": 64,
      "outputs": [
        {
          "output_type": "stream",
          "name": "stdout",
          "text": [
            "The address of list l is 132605830319488\n",
            "The address of list s is 132605830319488\n",
            "['p', 'k', 989, 'e', 'd', 'a']\n"
          ]
        }
      ]
    },
    {
      "cell_type": "code",
      "source": [
        "#Cloning- Creating duplicate list object\n",
        "l=[10,20,30,40]\n",
        "s=l.copy()\n",
        "\n",
        "print(id(l))\n",
        "print(id(s))\n",
        "\n",
        "l[2]=989\n",
        "print(s) #change in l will not reflect in s in case of cloning as both the list objects point to different reference."
      ],
      "metadata": {
        "colab": {
          "base_uri": "https://localhost:8080/"
        },
        "id": "eqaiEXVZK3DK",
        "outputId": "26ac74b7-5861-4e9a-aba6-8b0d903e6785"
      },
      "execution_count": 66,
      "outputs": [
        {
          "output_type": "stream",
          "name": "stdout",
          "text": [
            "132605829102400\n",
            "132605829219328\n",
            "[10, 20, 30, 40]\n"
          ]
        }
      ]
    },
    {
      "cell_type": "code",
      "source": [
        "'''Two ways to clone list\n",
        "1. USing copy()\n",
        "2. using slice operator '''\n",
        "\n",
        "l=[10,20,30,40]\n",
        "s=l[:]\n",
        "l[3]=6766\n",
        "print(s) #change in l will not reflect in s in case of cloning as both the list objects point to different reference.\n"
      ],
      "metadata": {
        "colab": {
          "base_uri": "https://localhost:8080/"
        },
        "id": "_dVZQFNhLpR5",
        "outputId": "a747468a-e586-4b17-f2bf-51a6d8da7858"
      },
      "execution_count": 67,
      "outputs": [
        {
          "output_type": "stream",
          "name": "stdout",
          "text": [
            "[10, 20, 30, 40]\n"
          ]
        }
      ]
    },
    {
      "cell_type": "code",
      "source": [
        "#Mathematical operators on list objects\n",
        "a=[10,20,30,40]\n",
        "b=[50,60]\n",
        "c=a+b\n",
        "print(c)\n",
        "d=a+[60]\n",
        "print(d)"
      ],
      "metadata": {
        "colab": {
          "base_uri": "https://localhost:8080/"
        },
        "id": "NTFm2SVqM5aP",
        "outputId": "2fa306c9-7549-42ea-b6d9-e76baeb0077d"
      },
      "execution_count": 70,
      "outputs": [
        {
          "output_type": "stream",
          "name": "stdout",
          "text": [
            "[10, 20, 30, 40, 50, 60]\n",
            "[10, 20, 30, 40, 60]\n"
          ]
        }
      ]
    },
    {
      "cell_type": "code",
      "source": [
        "#Membership Operators\n",
        "x=[10,20,30,40]\n",
        "print(10 in x)\n",
        "print(4 in x)"
      ],
      "metadata": {
        "colab": {
          "base_uri": "https://localhost:8080/"
        },
        "id": "a77fAgkFUBpB",
        "outputId": "dc1c145a-8d9e-4cf2-c449-f6d459a92068"
      },
      "execution_count": 72,
      "outputs": [
        {
          "output_type": "stream",
          "name": "stdout",
          "text": [
            "True\n",
            "False\n"
          ]
        }
      ]
    },
    {
      "cell_type": "code",
      "source": [],
      "metadata": {
        "id": "Immh7bviUraJ"
      },
      "execution_count": null,
      "outputs": []
    }
  ]
}