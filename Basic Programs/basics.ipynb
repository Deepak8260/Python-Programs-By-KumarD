{
 "cells": [
  {
   "cell_type": "code",
   "execution_count": 2,
   "metadata": {},
   "outputs": [
    {
     "name": "stdout",
     "output_type": "stream",
     "text": [
      "hello\n"
     ]
    }
   ],
   "source": [
    "print(\"hello\")"
   ]
  },
  {
   "cell_type": "code",
   "execution_count": 1,
   "metadata": {},
   "outputs": [
    {
     "name": "stdout",
     "output_type": "stream",
     "text": [
      "The sum is  12\n"
     ]
    }
   ],
   "source": [
    "a=7\n",
    "b=5\n",
    "c=a+b\n",
    "print(\"The sum is \",c)"
   ]
  },
  {
   "cell_type": "code",
   "execution_count": 5,
   "metadata": {},
   "outputs": [
    {
     "name": "stdout",
     "output_type": "stream",
     "text": [
      "<class 'list'>\n",
      "['Kumar', 4, '6', True, 'Hello']\n"
     ]
    }
   ],
   "source": [
    "# List in python\n",
    "list=[]\n",
    "print(type(list))\n",
    "\n",
    "li=[\"Kumar\", 4, \"6\", True, 'Hello']\n",
    "print(li)"
   ]
  },
  {
   "cell_type": "markdown",
   "metadata": {},
   "source": []
  },
  {
   "cell_type": "code",
   "execution_count": null,
   "metadata": {},
   "outputs": [],
   "source": [
    "# name = \"Deepak\"\n",
    "# lis= list(name)"
   ]
  },
  {
   "cell_type": "code",
   "execution_count": 4,
   "metadata": {},
   "outputs": [
    {
     "name": "stdout",
     "output_type": "stream",
     "text": [
      "Sum of 5 and 6 is 11\n",
      "The sum of 5 and 6 is 11\n",
      "The sum of 5 and 6 is 11 \n"
     ]
    }
   ],
   "source": [
    "a=input(\"Enter 1st number\")\n",
    "b=input(\"Enter 2nd number\")\n",
    "c=int(a)+int(b)\n",
    "print(\"Sum of\",a,\"and\",b,\"is\",c)\n",
    "\n",
    "print(\"The sum of {} and {} is {}\".format(a,b,c))\n",
    "\n",
    "print(\"The sum of {first} and {second} is {final} \".format(first=a, final=c, second=b))"
   ]
  },
  {
   "cell_type": "code",
   "execution_count": 10,
   "metadata": {},
   "outputs": [
    {
     "name": "stdout",
     "output_type": "stream",
     "text": [
      "['Kumar', 8, 'Hello']\n",
      "['Kumar', 8, 'Hello', 'Deepak']\n"
     ]
    }
   ],
   "source": [
    "# append in the last of list\n",
    "lis=[\"Kumar\",8,'Hello']\n",
    "print(lis)\n",
    "lis.append(\"Deepak\")\n",
    "print(lis)"
   ]
  },
  {
   "cell_type": "code",
   "execution_count": 15,
   "metadata": {},
   "outputs": [
    {
     "name": "stdout",
     "output_type": "stream",
     "text": [
      "['Deepak', 8, True, 'Hii Buddy']\n",
      "['Deepak', 8, 'Sonu', True, 'Hii Buddy']\n"
     ]
    },
    {
     "data": {
      "text/plain": [
       "['Deepak', 8, 'Sonu', True, 'Hii Buddy']"
      ]
     },
     "execution_count": 15,
     "metadata": {},
     "output_type": "execute_result"
    }
   ],
   "source": [
    "# insert values to the list\n",
    "\n",
    "lis=[\"Deepak\", 8, True, 'Hii Buddy']\n",
    "print(lis)\n",
    "lis.insert(2,\"Sonu\")\n",
    "print(lis)\n",
    "lis"
   ]
  },
  {
   "cell_type": "code",
   "execution_count": 20,
   "metadata": {},
   "outputs": [
    {
     "data": {
      "text/plain": [
       "['sekhar', 4, 9, 8, 6]"
      ]
     },
     "execution_count": 20,
     "metadata": {},
     "output_type": "execute_result"
    }
   ],
   "source": [
    "# extend values to the list\n",
    "lis=[\"sekhar\",4 ,9,8,6]\n",
    "lis"
   ]
  },
  {
   "cell_type": "code",
   "execution_count": 21,
   "metadata": {},
   "outputs": [
    {
     "data": {
      "text/plain": [
       "['sekhar', 4, 9, 8, 6, ['raju', 898]]"
      ]
     },
     "execution_count": 21,
     "metadata": {},
     "output_type": "execute_result"
    }
   ],
   "source": [
    "# nested list using append\n",
    "lis.append([\"raju\",898])\n",
    "lis"
   ]
  },
  {
   "cell_type": "code",
   "execution_count": 22,
   "metadata": {},
   "outputs": [
    {
     "data": {
      "text/plain": [
       "['sekhar', 4, 9, 8, 6, ['raju', 898], 'raju', 898]"
      ]
     },
     "execution_count": 22,
     "metadata": {},
     "output_type": "execute_result"
    }
   ],
   "source": [
    "# samme thing but using extend\n",
    "\n",
    "lis.extend([\"raju\",898])\n",
    "lis"
   ]
  },
  {
   "cell_type": "code",
   "execution_count": 23,
   "metadata": {},
   "outputs": [
    {
     "data": {
      "text/plain": [
       "['sekhar', 4, 9, 8, 6, ['raju', 898], 'raju', 898]"
      ]
     },
     "execution_count": 23,
     "metadata": {},
     "output_type": "execute_result"
    }
   ],
   "source": [
    "lis\n"
   ]
  },
  {
   "cell_type": "code",
   "execution_count": 30,
   "metadata": {},
   "outputs": [
    {
     "data": {
      "text/plain": [
       "6"
      ]
     },
     "execution_count": 30,
     "metadata": {},
     "output_type": "execute_result"
    }
   ],
   "source": [
    "lis.pop()\n"
   ]
  },
  {
   "cell_type": "code",
   "execution_count": 13,
   "metadata": {},
   "outputs": [],
   "source": [
    "lis=[\"Sekhar\",6, True,'Baby']\n"
   ]
  },
  {
   "cell_type": "code",
   "execution_count": 14,
   "metadata": {},
   "outputs": [
    {
     "data": {
      "text/plain": [
       "2"
      ]
     },
     "execution_count": 14,
     "metadata": {},
     "output_type": "execute_result"
    }
   ],
   "source": [
    "lis.index(1)"
   ]
  },
  {
   "cell_type": "code",
   "execution_count": 15,
   "metadata": {},
   "outputs": [
    {
     "data": {
      "text/plain": [
       "dict"
      ]
     },
     "execution_count": 15,
     "metadata": {},
     "output_type": "execute_result"
    }
   ],
   "source": [
    "dic={\"Name\":\"Kumar\"}\n",
    "type(dic)\n"
   ]
  },
  {
   "cell_type": "code",
   "execution_count": 16,
   "metadata": {},
   "outputs": [
    {
     "name": "stdout",
     "output_type": "stream",
     "text": [
      "{'Name': 'Kumar'}\n"
     ]
    }
   ],
   "source": [
    "print(dic)"
   ]
  },
  {
   "cell_type": "code",
   "execution_count": 23,
   "metadata": {},
   "outputs": [
    {
     "data": {
      "text/plain": [
       "9"
      ]
     },
     "execution_count": 23,
     "metadata": {},
     "output_type": "execute_result"
    }
   ],
   "source": [
    "dic={\"Name\":\"Kumar\",\"Age\":9}\n",
    "dic['Name']\n"
   ]
  },
  {
   "cell_type": "code",
   "execution_count": 24,
   "metadata": {},
   "outputs": [
    {
     "data": {
      "text/plain": [
       "9"
      ]
     },
     "execution_count": 24,
     "metadata": {},
     "output_type": "execute_result"
    }
   ],
   "source": [
    "dic={\"Name\":\"Kumar\",\"Age\":9}\n",
    "dic['Age']"
   ]
  },
  {
   "cell_type": "code",
   "execution_count": 2,
   "metadata": {},
   "outputs": [
    {
     "name": "stdout",
     "output_type": "stream",
     "text": [
      "greater\n"
     ]
    }
   ],
   "source": [
    "if 4<9:\n",
    "    print(\"greater\")\n",
    "else:\n",
    "    print(\"Not greater\")"
   ]
  },
  {
   "cell_type": "code",
   "execution_count": 4,
   "metadata": {},
   "outputs": [
    {
     "name": "stdout",
     "output_type": "stream",
     "text": [
      "1  \n",
      "2  \n",
      "3  \n",
      "4  \n",
      "5  \n",
      "6  \n",
      "7  \n",
      "8  \n",
      "9  \n",
      "10  \n",
      "11  \n",
      "12  \n",
      "13  \n",
      "14  \n",
      "15  \n",
      "16  \n"
     ]
    }
   ],
   "source": [
    "i=0\n",
    "while i<16:\n",
    "    print(i+1,\" \")\n",
    "    i+=1"
   ]
  },
  {
   "cell_type": "code",
   "execution_count": 4,
   "metadata": {},
   "outputs": [
    {
     "name": "stdout",
     "output_type": "stream",
     "text": [
      "Composite\n"
     ]
    }
   ],
   "source": [
    "# while with else statement\n",
    "# a=input(\"Enter a number\")\n",
    "a=8\n",
    "i=1\n",
    "c=0\n",
    "while i<=a:\n",
    "    if a%i==0:\n",
    "        c+=1\n",
    "    i+=1\n",
    "if c==2:\n",
    "    print(\"prime\")\n",
    "else:\n",
    "    print(\"Composite\")"
   ]
  },
  {
   "cell_type": "code",
   "execution_count": 20,
   "metadata": {},
   "outputs": [
    {
     "name": "stdout",
     "output_type": "stream",
     "text": [
      "1\n",
      "4\n",
      "7\n",
      "10\n",
      "13\n",
      "16\n",
      "19\n"
     ]
    }
   ],
   "source": [
    "# range function\n",
    "a=range(1,20,3)\n",
    "print(a[0])\n",
    "print(a[1])\n",
    "print(a[2])\n",
    "print(a[3])\n",
    "print(a[4])\n",
    "print(a[5])\n",
    "print(a[6])\n"
   ]
  },
  {
   "cell_type": "code",
   "execution_count": 22,
   "metadata": {},
   "outputs": [
    {
     "name": "stdout",
     "output_type": "stream",
     "text": [
      "0\n",
      "1\n",
      "2\n",
      "3\n",
      "4\n",
      "5\n",
      "6\n",
      "7\n",
      "8\n",
      "9\n"
     ]
    }
   ],
   "source": [
    "# for loop\n",
    "a=range(10)\n",
    "for i in a:\n",
    "    print(i)"
   ]
  },
  {
   "cell_type": "code",
   "execution_count": 23,
   "metadata": {},
   "outputs": [
    {
     "name": "stdout",
     "output_type": "stream",
     "text": [
      "This is the use of pass statement\n"
     ]
    }
   ],
   "source": [
    "# pass statement\n",
    "if 8>10:\n",
    "    pass\n",
    "else:\n",
    "    print(\"This is the use of pass statement\")"
   ]
  },
  {
   "cell_type": "code",
   "execution_count": 4,
   "metadata": {},
   "outputs": [
    {
     "name": "stdout",
     "output_type": "stream",
     "text": [
      "The sum of 4 and 5 is 9\n"
     ]
    }
   ],
   "source": [
    "# wap to input two numbers as input and return sum\n",
    "x=input(\"Enter 1st number\")\n",
    "y=input(\"Enter 2nd number\")\n",
    "\n",
    "def sum(a,b):\n",
    "    c=int(a)+int(b)\n",
    "    print(\"The sum of\",a,\"and\",b,\"is\",c)\n",
    "\n",
    "sum(x,y)\n",
    "    \n",
    "    "
   ]
  },
  {
   "cell_type": "code",
   "execution_count": 4,
   "metadata": {},
   "outputs": [
    {
     "name": "stdout",
     "output_type": "stream",
     "text": [
      "68\n",
      "787\n",
      "34\n",
      "44\n",
      "465\n"
     ]
    }
   ],
   "source": [
    "#`1d array using array()`\n",
    "import array as ar\n",
    "arr= ar.array('i',[198,238,465,44,34,34,56,68,787,85,55])\n",
    "print(arr[7])\n",
    "print(arr[8])\n",
    "print(arr[4])\n",
    "print(arr[3])\n",
    "print(arr[2])"
   ]
  },
  {
   "cell_type": "code",
   "execution_count": 7,
   "metadata": {},
   "outputs": [
    {
     "name": "stdout",
     "output_type": "stream",
     "text": [
      "53.0\n",
      "4.0\n",
      "787.0\n",
      "3.0\n",
      "634.0\n"
     ]
    }
   ],
   "source": [
    "#Another way to import array module (recommended)\n",
    "from array import *\n",
    "arr_1 = array('f',[345,654, 3,787,654,634,53,23,4,324,6,85,5])\n",
    "print(arr_1[6])\n",
    "print(arr_1[8])\n",
    "print(arr_1[3])\n",
    "print(arr_1[2])\n",
    "print(arr_1[5])"
   ]
  },
  {
   "cell_type": "code",
   "execution_count": 8,
   "metadata": {},
   "outputs": [
    {
     "name": "stdout",
     "output_type": "stream",
     "text": [
      "53.0\n",
      "4.0\n",
      "787.0\n",
      "3.0\n",
      "634.0\n"
     ]
    }
   ],
   "source": [
    "#int can be coverted to float\n",
    "from array import *\n",
    "arr_1 = array('f',[345,654, 3,787,654,634,53,23,4,324,6,85,5])\n",
    "print(arr_1[6])\n",
    "print(arr_1[8])\n",
    "print(arr_1[3])\n",
    "print(arr_1[2])\n",
    "print(arr_1[5])"
   ]
  },
  {
   "cell_type": "code",
   "execution_count": 9,
   "metadata": {},
   "outputs": [
    {
     "ename": "TypeError",
     "evalue": "'float' object cannot be interpreted as an integer",
     "output_type": "error",
     "traceback": [
      "\u001b[1;31m---------------------------------------------------------------------------\u001b[0m",
      "\u001b[1;31mTypeError\u001b[0m                                 Traceback (most recent call last)",
      "Cell \u001b[1;32mIn[9], line 2\u001b[0m\n\u001b[0;32m      1\u001b[0m \u001b[38;5;66;03m#but float data can not be converted to int as there will be data loss\u001b[39;00m\n\u001b[1;32m----> 2\u001b[0m arr_1 \u001b[38;5;241m=\u001b[39m \u001b[43marray\u001b[49m\u001b[43m(\u001b[49m\u001b[38;5;124;43m'\u001b[39;49m\u001b[38;5;124;43mi\u001b[39;49m\u001b[38;5;124;43m'\u001b[39;49m\u001b[43m,\u001b[49m\u001b[43m[\u001b[49m\u001b[38;5;241;43m345\u001b[39;49m\u001b[43m,\u001b[49m\u001b[38;5;241;43m654.98\u001b[39;49m\u001b[43m,\u001b[49m\u001b[43m \u001b[49m\u001b[38;5;241;43m3\u001b[39;49m\u001b[43m,\u001b[49m\u001b[38;5;241;43m787\u001b[39;49m\u001b[43m,\u001b[49m\u001b[38;5;241;43m654\u001b[39;49m\u001b[43m,\u001b[49m\u001b[38;5;241;43m634\u001b[39;49m\u001b[43m,\u001b[49m\u001b[38;5;241;43m53\u001b[39;49m\u001b[43m,\u001b[49m\u001b[38;5;241;43m23\u001b[39;49m\u001b[43m,\u001b[49m\u001b[38;5;241;43m4\u001b[39;49m\u001b[43m,\u001b[49m\u001b[38;5;241;43m324\u001b[39;49m\u001b[43m,\u001b[49m\u001b[38;5;241;43m6\u001b[39;49m\u001b[43m,\u001b[49m\u001b[38;5;241;43m85\u001b[39;49m\u001b[43m,\u001b[49m\u001b[38;5;241;43m5\u001b[39;49m\u001b[43m]\u001b[49m\u001b[43m)\u001b[49m\n\u001b[0;32m      4\u001b[0m \u001b[38;5;28mprint\u001b[39m(arr_1[\u001b[38;5;241m1\u001b[39m])\n",
      "\u001b[1;31mTypeError\u001b[0m: 'float' object cannot be interpreted as an integer"
     ]
    }
   ],
   "source": [
    "#but float data can not be converted to int as there will be data loss\n",
    "arr_1 = array('i',[345,654.98, 3,787,654,634,53,23,4,324,6,85,5])\n",
    "\n",
    "print(arr_1[1])\n",
    "\n"
   ]
  },
  {
   "cell_type": "code",
   "execution_count": 10,
   "metadata": {},
   "outputs": [
    {
     "name": "stdout",
     "output_type": "stream",
     "text": [
      "45\n",
      "65\n",
      "33\n",
      "546\n",
      "78\n",
      "43\n",
      "22\n",
      "657\n",
      "476\n",
      "97\n",
      "43\n",
      "67\n"
     ]
    }
   ],
   "source": [
    "#accessing array using for loop (without index)\n",
    "from array import *\n",
    "std=array('i',[45,65,33,546,78,43,22,657,476,97,43,67])\n",
    "\n",
    "for ar in std:\n",
    "    print(ar)"
   ]
  },
  {
   "cell_type": "code",
   "execution_count": 4,
   "metadata": {},
   "outputs": [
    {
     "name": "stdout",
     "output_type": "stream",
     "text": [
      "54\n",
      "223\n",
      "5465\n",
      "787\n",
      "453\n",
      "3245\n",
      "68\n",
      "99\n",
      "75\n",
      "4323\n",
      "56\n",
      "6999\n"
     ]
    }
   ],
   "source": [
    "#accessing array using for loop (with index)\n",
    "from array import *\n",
    "std = array('i',[54,223,5465,787,453,3245,68,99,75,4323,56,6999])\n",
    "\n",
    "n=len(std)\n",
    "for x in range(n):\n",
    "    print(std[x])"
   ]
  },
  {
   "cell_type": "code",
   "execution_count": 2,
   "metadata": {},
   "outputs": [
    {
     "name": "stdout",
     "output_type": "stream",
     "text": [
      "33445\n",
      "4332\n",
      "456\n",
      "78\n",
      "554\n",
      "34\n",
      "678\n",
      "85\n",
      "42\n",
      "2\n"
     ]
    }
   ],
   "source": [
    "#accessing array using while loop\n",
    "from array import *\n",
    "arr=array('i',[33445,4332,456,78,554,34,678,85,42,2])\n",
    "\n",
    "n=len(arr)\n",
    "i=0\n",
    "while i<n:\n",
    "    print(arr[i])\n",
    "    i+=1"
   ]
  },
  {
   "cell_type": "code",
   "execution_count": 6,
   "metadata": {},
   "outputs": [
    {
     "name": "stdout",
     "output_type": "stream",
     "text": [
      "34\n",
      "54\n",
      "678\n",
      "654\n",
      "24\n",
      "4\n",
      "\n",
      "34\n",
      "54\n",
      "678\n",
      "654\n",
      "24\n",
      "4\n",
      "8888\n"
     ]
    }
   ],
   "source": [
    "#append() method\n",
    "from array import *\n",
    "std=array('i',[34,54,678,654,24,4])\n",
    "\n",
    "for e in std:\n",
    "    print(e)\n",
    "\n",
    "print()\n",
    "std.append(8888)\n",
    "for s in std:\n",
    "    print(s)"
   ]
  },
  {
   "cell_type": "code",
   "execution_count": 16,
   "metadata": {},
   "outputs": [
    {
     "name": "stdout",
     "output_type": "stream",
     "text": [
      "5\n",
      "6\n",
      "7\n"
     ]
    }
   ],
   "source": [
    "#getting user input in an array using for loop\n",
    "from array import *\n",
    "arr=array('i',[])\n",
    "n=int(input(\"Enter the number of elements to be inserted\"))\n",
    "\n",
    "for i in range(n):\n",
    "    arr.append(int(input(\"Enter the element\")))\n",
    "    \n",
    "    \n",
    "#for s in range(len(arr)):\n",
    "  #  print(arr[s])\n",
    "for s in arr:\n",
    "    print(s)"
   ]
  },
  {
   "cell_type": "code",
   "execution_count": 2,
   "metadata": {},
   "outputs": [
    {
     "name": "stdout",
     "output_type": "stream",
     "text": [
      "3\n",
      "4\n",
      "5\n",
      "6\n"
     ]
    }
   ],
   "source": [
    "#getting user input in an array using while loop\n",
    "\n",
    "from array import *\n",
    "arr=array('i',[])\n",
    "n=int(input(\"Enter the number of elements to be inserted\"))\n",
    "\n",
    "i=0\n",
    "s=0\n",
    "while i<n:\n",
    "    arr.append(int(input(\"Enter the element\")))\n",
    "    i+=1\n",
    "\n",
    "l=len(arr)\n",
    "while s<l:\n",
    "    print(arr[s])\n",
    "    s+=1"
   ]
  },
  {
   "cell_type": "code",
   "execution_count": null,
   "metadata": {},
   "outputs": [],
   "source": [
    "#Numpy\n"
   ]
  }
 ],
 "metadata": {
  "kernelspec": {
   "display_name": "Python 3",
   "language": "python",
   "name": "python3"
  },
  "language_info": {
   "codemirror_mode": {
    "name": "ipython",
    "version": 3
   },
   "file_extension": ".py",
   "mimetype": "text/x-python",
   "name": "python",
   "nbconvert_exporter": "python",
   "pygments_lexer": "ipython3",
   "version": "3.12.2"
  }
 },
 "nbformat": 4,
 "nbformat_minor": 2
}
